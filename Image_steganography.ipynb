{
 "cells": [
  {
   "cell_type": "code",
   "execution_count": 1,
   "id": "565e8b84-8656-4fe1-a7d7-6afa5257b449",
   "metadata": {},
   "outputs": [
    {
     "name": "stdout",
     "output_type": "stream",
     "text": [
      "✅ Sample image 'original.png' created.\n"
     ]
    }
   ],
   "source": [
    "from PIL import Image, ImageDraw\n",
    "\n",
    "# Create a blank white image\n",
    "img = Image.new('RGB', (200, 200), color=(255, 255, 255))\n",
    "\n",
    "# Draw some text on it\n",
    "draw = ImageDraw.Draw(img)\n",
    "draw.text((50, 90), \"ORIGINAL\", fill=(0, 0, 0))\n",
    "\n",
    "# Save it as original.png\n",
    "img.save(\"original.png\")\n",
    "print(\"✅ Sample image 'original.png' created.\")\n"
   ]
  },
  {
   "cell_type": "code",
   "execution_count": 2,
   "id": "3b912824-503a-4ec7-897a-47f7aabd3e5c",
   "metadata": {},
   "outputs": [],
   "source": [
    "from PIL import Image\n",
    "import numpy as np\n",
    "\n",
    "# Function to encode a secret message\n",
    "def encode_message(image_path, message, output_path):\n",
    "    img = Image.open(image_path).convert(\"RGB\")\n",
    "    data = np.array(img)\n",
    "    binary_message = ''.join([format(ord(c), '08b') for c in message]) + '1111111111111110'\n",
    "    flat_data = data.flatten()\n",
    "\n",
    "    if len(binary_message) > len(flat_data):\n",
    "        raise ValueError(\"Message is too long to encode in the image.\")\n",
    "\n",
    "    for i in range(len(binary_message)):\n",
    "        flat_data[i] = (flat_data[i] & 254) | int(binary_message[i])  # 💡 FIXED: Use 254 instead of ~1\n",
    "\n",
    "    encoded_data = flat_data.reshape(data.shape)\n",
    "    encoded_img = Image.fromarray(encoded_data.astype(np.uint8))\n",
    "    encoded_img.save(output_path)\n",
    "    print(\"✅ Message encoded and saved to\", output_path)\n",
    "\n",
    "# Function to decode the message\n",
    "def decode_message(image_path):\n",
    "    img = Image.open(image_path).convert(\"RGB\")\n",
    "    data = np.array(img)\n",
    "    flat_data = data.flatten()\n",
    "    bits = [str(flat_data[i] & 1) for i in range(len(flat_data))]\n",
    "    chars = [chr(int(''.join(bits[i:i+8]), 2)) for i in range(0, len(bits), 8)]\n",
    "    message = ''.join(chars)\n",
    "    if 'ÿþ' in message:\n",
    "        message = message.split('ÿþ')[0]\n",
    "    return message\n"
   ]
  },
  {
   "cell_type": "code",
   "execution_count": 3,
   "id": "021f6b98-47bb-4f04-ad0e-d8580bec896d",
   "metadata": {},
   "outputs": [
    {
     "name": "stdout",
     "output_type": "stream",
     "text": [
      "✅ Message encoded and saved to encoded_image.png\n"
     ]
    }
   ],
   "source": [
    "encode_message(\"original.png\", \"Hi!ÿþ\", \"encoded_image.png\")\n"
   ]
  },
  {
   "cell_type": "code",
   "execution_count": 5,
   "id": "5964af54-650b-47d1-900f-29fef1ced9b2",
   "metadata": {},
   "outputs": [
    {
     "name": "stdout",
     "output_type": "stream",
     "text": [
      "📥 Decoded Message: Hi!\n"
     ]
    }
   ],
   "source": [
    "decoded = decode_message(\"encoded_image.png\")\n",
    "print(\"📥 Decoded Message:\", decoded)\n"
   ]
  },
  {
   "cell_type": "code",
   "execution_count": 7,
   "id": "ddec52ba-d700-461d-b100-4510a7c27fa7",
   "metadata": {},
   "outputs": [
    {
     "name": "stdout",
     "output_type": "stream",
     "text": [
      "✅ requirements.txt created successfully!\n"
     ]
    }
   ],
   "source": [
    "with open(\"requirements.txt\", \"w\") as f:\n",
    "    f.write(\"pillow\\nnumpy\")\n",
    "print(\"✅ requirements.txt created successfully!\")\n"
   ]
  },
  {
   "cell_type": "code",
   "execution_count": 8,
   "id": "5347e1e3-a72b-4b39-a94d-f1169de6e84d",
   "metadata": {},
   "outputs": [
    {
     "name": "stdout",
     "output_type": "stream",
     "text": [
      "✅ README.md created!\n"
     ]
    }
   ],
   "source": [
    "with open(\"README.md\", \"w\") as f:\n",
    "    f.write(\"# Image Steganography using Python\\n\\nThis project hides a secret message in an image using the Least Significant Bit (LSB) technique.\\n\\n## How to Run\\n1. Run all notebook cells.\\n2. Message will be encoded in 'encoded_image.png'.\\n3. You can decode and see it using the provided function.\\n\\n## Files\\n- original.png\\n- encoded_image.png\\n- requirements.txt\\n- Image_Steganography.ipynb\\n- README.md\")\n",
    "print(\"✅ README.md created!\")\n"
   ]
  }
 ],
 "metadata": {
  "kernelspec": {
   "display_name": "Python 3 (ipykernel)",
   "language": "python",
   "name": "python3"
  },
  "language_info": {
   "codemirror_mode": {
    "name": "ipython",
    "version": 3
   },
   "file_extension": ".py",
   "mimetype": "text/x-python",
   "name": "python",
   "nbconvert_exporter": "python",
   "pygments_lexer": "ipython3",
   "version": "3.13.5"
  }
 },
 "nbformat": 4,
 "nbformat_minor": 5
}
